{
 "cells": [
  {
   "cell_type": "markdown",
   "metadata": {},
   "source": [
    "# 计算基础代码"
   ]
  },
  {
   "cell_type": "markdown",
   "metadata": {},
   "source": [
    "算法简介代码"
   ]
  },
  {
   "cell_type": "markdown",
   "metadata": {},
   "source": [
    "Al-Khwarizmi的算法"
   ]
  },
  {
   "cell_type": "code",
   "execution_count": 1,
   "metadata": {},
   "outputs": [],
   "source": [
    "import math as math"
   ]
  },
  {
   "cell_type": "code",
   "execution_count": 2,
   "metadata": {},
   "outputs": [
    {
     "name": "stdout",
     "output_type": "stream",
     "text": [
      "(3.0, -13.0)\n"
     ]
    }
   ],
   "source": [
    "def sovle_equ(b,c):\n",
    "    val1 = b/2.0\n",
    "    val2 = val1**2\n",
    "    val3 = val2 + c\n",
    "    val4 = math.sqrt(val3)\n",
    "    root1 = val4 - val1\n",
    "    root2 = -val4 - val1\n",
    "    return root1,root2\n",
    "print(sovle_equ(10,39))"
   ]
  },
  {
   "cell_type": "code",
   "execution_count": null,
   "metadata": {},
   "outputs": [],
   "source": []
  },
  {
   "cell_type": "code",
   "execution_count": null,
   "metadata": {},
   "outputs": [],
   "source": []
  },
  {
   "cell_type": "code",
   "execution_count": null,
   "metadata": {},
   "outputs": [],
   "source": []
  },
  {
   "cell_type": "code",
   "execution_count": null,
   "metadata": {},
   "outputs": [],
   "source": []
  },
  {
   "cell_type": "code",
   "execution_count": null,
   "metadata": {},
   "outputs": [],
   "source": []
  },
  {
   "cell_type": "code",
   "execution_count": null,
   "metadata": {},
   "outputs": [],
   "source": []
  },
  {
   "cell_type": "markdown",
   "metadata": {},
   "source": [
    "现在常用的算法（求根公式）"
   ]
  },
  {
   "cell_type": "markdown",
   "metadata": {},
   "source": [
    "请在这里书写自己的算法"
   ]
  },
  {
   "cell_type": "code",
   "execution_count": null,
   "metadata": {},
   "outputs": [],
   "source": []
  },
  {
   "cell_type": "markdown",
   "metadata": {},
   "source": [
    "两种算法结果是一样的"
   ]
  },
  {
   "cell_type": "markdown",
   "metadata": {},
   "source": [
    "与，或，非，异或"
   ]
  },
  {
   "cell_type": "markdown",
   "metadata": {},
   "source": [
    "True:1\n",
    "False:0"
   ]
  },
  {
   "cell_type": "code",
   "execution_count": 4,
   "metadata": {},
   "outputs": [],
   "source": [
    "def AND(a,b): return a*b\n",
    "def OR(a,b): return 1-(1-a)*(1-b)\n",
    "def NOT(a): return 1-a\n",
    "\n"
   ]
  },
  {
   "cell_type": "markdown",
   "metadata": {},
   "source": [
    "可以在这里用定义的运算计算与，或，非："
   ]
  },
  {
   "cell_type": "code",
   "execution_count": 5,
   "metadata": {},
   "outputs": [
    {
     "name": "stdout",
     "output_type": "stream",
     "text": [
      "0\n"
     ]
    }
   ],
   "source": [
    "print(AND(0,1))"
   ]
  },
  {
   "cell_type": "code",
   "execution_count": 6,
   "metadata": {},
   "outputs": [
    {
     "name": "stdout",
     "output_type": "stream",
     "text": [
      "1\n"
     ]
    }
   ],
   "source": [
    "print(OR(0,1))"
   ]
  },
  {
   "cell_type": "code",
   "execution_count": 7,
   "metadata": {},
   "outputs": [
    {
     "name": "stdout",
     "output_type": "stream",
     "text": [
      "0\n"
     ]
    }
   ],
   "source": [
    "print(NOT(1))"
   ]
  },
  {
   "cell_type": "markdown",
   "metadata": {},
   "source": [
    "与或非计算实例"
   ]
  },
  {
   "cell_type": "markdown",
   "metadata": {},
   "source": [
    "MAJ计算"
   ]
  },
  {
   "cell_type": "markdown",
   "metadata": {},
   "source": [
    "请在这里书写自己的算法"
   ]
  },
  {
   "cell_type": "code",
   "execution_count": null,
   "metadata": {},
   "outputs": [],
   "source": []
  },
  {
   "cell_type": "markdown",
   "metadata": {},
   "source": [
    "异或"
   ]
  },
  {
   "cell_type": "code",
   "execution_count": 17,
   "metadata": {},
   "outputs": [],
   "source": [
    "def XOR(a,b):\n",
    "    w1 = AND(a,b)\n",
    "    w2 = NOT(w1)\n",
    "    w3 = OR(a,b)\n",
    "    return AND(w2,w3)\n",
    "\n"
   ]
  },
  {
   "cell_type": "code",
   "execution_count": 18,
   "metadata": {},
   "outputs": [],
   "source": [
    "def XOR_2(a,b):\n",
    "    w1 = NOT(a)\n",
    "    w2 = NOT(b)\n",
    "    w3 = AND(a,w2)\n",
    "    w4 = AND(b,w1)\n",
    "    return OR(w3,w4)"
   ]
  },
  {
   "cell_type": "code",
   "execution_count": 19,
   "metadata": {},
   "outputs": [
    {
     "name": "stdout",
     "output_type": "stream",
     "text": [
      "True\n"
     ]
    }
   ],
   "source": [
    "print(XOR(1,1)==XOR_2(1,1))"
   ]
  },
  {
   "cell_type": "code",
   "execution_count": null,
   "metadata": {},
   "outputs": [],
   "source": [
    "def XOR3(a,b,c):\n",
    "    w1 = AND(a,b)\n",
    "    w2 = NOT(w1)\n",
    "    w3 = OR(a,b)\n",
    "    w4 = AND(w2,w3)\n",
    "    w5 = AND(w4,c)\n",
    "    w6 = NOT(w5)\n",
    "    w7 = OR(w4,c)\n",
    "    return AND(w6,w7)"
   ]
  },
  {
   "cell_type": "markdown",
   "metadata": {},
   "source": [
    "与非(NAND)"
   ]
  },
  {
   "cell_type": "code",
   "execution_count": 25,
   "metadata": {},
   "outputs": [],
   "source": [
    "def NAND(a,b):\n",
    "    return NOT(AND(a,b))"
   ]
  },
  {
   "cell_type": "code",
   "execution_count": 26,
   "metadata": {},
   "outputs": [
    {
     "name": "stdout",
     "output_type": "stream",
     "text": [
      "True\n",
      "True\n",
      "True\n"
     ]
    }
   ],
   "source": [
    "a = True\n",
    "b = False\n",
    "print(NOT(a)==NAND(a,a))\n",
    "print(AND(a,b)==NAND(NAND(a,b),NAND(a,b)))\n",
    "print(OR(a,b)==NAND(NAND(a,a),NAND(b,b)))\n",
    "print()"
   ]
  }
 ],
 "metadata": {
  "kernelspec": {
   "display_name": "Python 3",
   "language": "python",
   "name": "python3"
  },
  "language_info": {
   "codemirror_mode": {
    "name": "ipython",
    "version": 3
   },
   "file_extension": ".py",
   "mimetype": "text/x-python",
   "name": "python",
   "nbconvert_exporter": "python",
   "pygments_lexer": "ipython3",
   "version": "3.6.5"
  }
 },
 "nbformat": 4,
 "nbformat_minor": 2
}
