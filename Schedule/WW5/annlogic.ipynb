{
 "cells": [
  {
   "cell_type": "markdown",
   "metadata": {
    "slideshow": {
     "slide_type": "slide"
    }
   },
   "source": [
    "# 用ANN实现数字电路\n",
    "\n",
    "> Haotian Liu, 2020-03, STIS-2020Spring\n",
    "\n",
    "下面使用Pytorch做一个简单的验算。"
   ]
  },
  {
   "cell_type": "code",
   "execution_count": 1,
   "metadata": {
    "slideshow": {
     "slide_type": "fragment"
    }
   },
   "outputs": [],
   "source": [
    "import torch\n",
    "import torch.nn as nn\n",
    "import torch.nn.functional as F"
   ]
  },
  {
   "cell_type": "code",
   "execution_count": 2,
   "metadata": {
    "slideshow": {
     "slide_type": "fragment"
    }
   },
   "outputs": [],
   "source": [
    "from IPython.display import display, Markdown\n",
    "import itertools\n",
    "def table(gate):\n",
    "    res = r\"\"\"\n",
    "_Input_ | _Output_\n",
    "--------|---------\n",
    "\"\"\"[1:]\n",
    "    for X in itertools.product((0,1),repeat=gate.ninput):\n",
    "        x = \"\".join([str(b) for b in X])\n",
    "        output = gate(torch.Tensor([b for b in X]))\n",
    "        y = round(float(output))\n",
    "        res += f\"  ${x}$  | ${y}$ \\n\"\n",
    "    display(Markdown(res))\n",
    "\n",
    "def zt(*bits):\n",
    "    return torch.Tensor(bits)"
   ]
  },
  {
   "cell_type": "code",
   "execution_count": 3,
   "metadata": {
    "slideshow": {
     "slide_type": "slide"
    }
   },
   "outputs": [],
   "source": [
    "class AND(nn.Module):\n",
    "    def __init__(self):\n",
    "        super().__init__()\n",
    "        self.ninput = 2\n",
    "        self.weight = torch.Tensor([[20, 20]])\n",
    "        self.bias = torch.Tensor([-30])\n",
    "\n",
    "    def forward(self, x):\n",
    "        x = F.linear(x, self.weight, self.bias)\n",
    "        x = torch.sigmoid(x)\n",
    "        return x"
   ]
  },
  {
   "cell_type": "code",
   "execution_count": 4,
   "metadata": {
    "scrolled": true,
    "slideshow": {
     "slide_type": "fragment"
    }
   },
   "outputs": [
    {
     "data": {
      "text/markdown": [
       "_Input_ | _Output_\n",
       "--------|---------\n",
       "  $00$  | $0$ \n",
       "  $01$  | $0$ \n",
       "  $10$  | $0$ \n",
       "  $11$  | $1$ \n"
      ],
      "text/plain": [
       "<IPython.core.display.Markdown object>"
      ]
     },
     "metadata": {},
     "output_type": "display_data"
    }
   ],
   "source": [
    "table(AND())"
   ]
  },
  {
   "cell_type": "code",
   "execution_count": 5,
   "metadata": {
    "slideshow": {
     "slide_type": "slide"
    }
   },
   "outputs": [],
   "source": [
    "class OR(nn.Module):\n",
    "    def __init__(self):\n",
    "        super().__init__()\n",
    "        self.ninput = 2\n",
    "        self.weight = torch.Tensor([[20, 20]])\n",
    "        self.bias = torch.Tensor([-10])\n",
    "\n",
    "    def forward(self, x):\n",
    "        x = F.linear(x, self.weight, self.bias)\n",
    "        x = torch.sigmoid(x)\n",
    "        return x"
   ]
  },
  {
   "cell_type": "code",
   "execution_count": 6,
   "metadata": {
    "slideshow": {
     "slide_type": "fragment"
    }
   },
   "outputs": [
    {
     "data": {
      "text/markdown": [
       "_Input_ | _Output_\n",
       "--------|---------\n",
       "  $00$  | $0$ \n",
       "  $01$  | $1$ \n",
       "  $10$  | $1$ \n",
       "  $11$  | $1$ \n"
      ],
      "text/plain": [
       "<IPython.core.display.Markdown object>"
      ]
     },
     "metadata": {},
     "output_type": "display_data"
    }
   ],
   "source": [
    "table(OR())"
   ]
  },
  {
   "cell_type": "code",
   "execution_count": 7,
   "metadata": {
    "slideshow": {
     "slide_type": "slide"
    }
   },
   "outputs": [],
   "source": [
    "class NOT(nn.Module):\n",
    "    def __init__(self):\n",
    "        super().__init__()\n",
    "        self.ninput = 1\n",
    "        self.weight = torch.Tensor([[-20]])\n",
    "        self.bias = torch.Tensor([10])\n",
    "\n",
    "    def forward(self, x):\n",
    "        x = F.linear(x, self.weight, self.bias)\n",
    "        x = torch.sigmoid(x)\n",
    "        return x"
   ]
  },
  {
   "cell_type": "code",
   "execution_count": 8,
   "metadata": {
    "scrolled": true,
    "slideshow": {
     "slide_type": "fragment"
    }
   },
   "outputs": [
    {
     "data": {
      "text/markdown": [
       "_Input_ | _Output_\n",
       "--------|---------\n",
       "  $0$  | $1$ \n",
       "  $1$  | $0$ \n"
      ],
      "text/plain": [
       "<IPython.core.display.Markdown object>"
      ]
     },
     "metadata": {},
     "output_type": "display_data"
    }
   ],
   "source": [
    "table(NOT())"
   ]
  },
  {
   "cell_type": "code",
   "execution_count": 9,
   "metadata": {
    "slideshow": {
     "slide_type": "slide"
    }
   },
   "outputs": [],
   "source": [
    "class XOR(nn.Module):\n",
    "    def __init__(self):\n",
    "        super().__init__()\n",
    "        self.ninput = 2\n",
    "        self.and_ = AND()\n",
    "        self.or_ = OR()\n",
    "        self.not_ = NOT()\n",
    "\n",
    "    def forward(self, x):\n",
    "        y1 = self.or_(x)\n",
    "        t1 = self.not_(zt(x[0]))\n",
    "        t2 = self.not_(zt(x[1]))\n",
    "        y2 = self.or_(zt(t1, t2))\n",
    "        return self.and_(zt(y1, y2))"
   ]
  },
  {
   "cell_type": "code",
   "execution_count": 10,
   "metadata": {
    "scrolled": true,
    "slideshow": {
     "slide_type": "fragment"
    }
   },
   "outputs": [
    {
     "data": {
      "text/markdown": [
       "_Input_ | _Output_\n",
       "--------|---------\n",
       "  $00$  | $0$ \n",
       "  $01$  | $1$ \n",
       "  $10$  | $1$ \n",
       "  $11$  | $0$ \n"
      ],
      "text/plain": [
       "<IPython.core.display.Markdown object>"
      ]
     },
     "metadata": {},
     "output_type": "display_data"
    }
   ],
   "source": [
    "table(XOR())"
   ]
  },
  {
   "cell_type": "code",
   "execution_count": 11,
   "metadata": {
    "slideshow": {
     "slide_type": "slide"
    }
   },
   "outputs": [],
   "source": [
    "class NAND(nn.Module):\n",
    "    def __init__(self):\n",
    "        super().__init__()\n",
    "        self.ninput = 2\n",
    "        self.weight = torch.Tensor([[-20, -20]])\n",
    "        self.bias = torch.Tensor([30])\n",
    "\n",
    "    def forward(self, x):\n",
    "        x = F.linear(x, self.weight, self.bias)\n",
    "        x = torch.sigmoid(x)\n",
    "        return x"
   ]
  },
  {
   "cell_type": "code",
   "execution_count": 12,
   "metadata": {
    "slideshow": {
     "slide_type": "fragment"
    }
   },
   "outputs": [
    {
     "data": {
      "text/markdown": [
       "_Input_ | _Output_\n",
       "--------|---------\n",
       "  $00$  | $1$ \n",
       "  $01$  | $1$ \n",
       "  $10$  | $1$ \n",
       "  $11$  | $0$ \n"
      ],
      "text/plain": [
       "<IPython.core.display.Markdown object>"
      ]
     },
     "metadata": {},
     "output_type": "display_data"
    }
   ],
   "source": [
    "table(NAND())"
   ]
  },
  {
   "cell_type": "code",
   "execution_count": 13,
   "metadata": {
    "slideshow": {
     "slide_type": "slide"
    }
   },
   "outputs": [],
   "source": [
    "class XOR2(nn.Module):\n",
    "    def __init__(self):\n",
    "        super().__init__()\n",
    "        self.ninput = 2\n",
    "        self.and_ = AND()\n",
    "        self.or_ = OR()\n",
    "        self.nand_ = NAND()\n",
    "\n",
    "    def forward(self, x):\n",
    "        y1 = self.or_(x)\n",
    "        y2 = self.nand_(x)\n",
    "        return self.and_(zt(y1,y2))"
   ]
  },
  {
   "cell_type": "code",
   "execution_count": 14,
   "metadata": {
    "scrolled": true,
    "slideshow": {
     "slide_type": "fragment"
    }
   },
   "outputs": [
    {
     "data": {
      "text/markdown": [
       "_Input_ | _Output_\n",
       "--------|---------\n",
       "  $00$  | $0$ \n",
       "  $01$  | $1$ \n",
       "  $10$  | $1$ \n",
       "  $11$  | $0$ \n"
      ],
      "text/plain": [
       "<IPython.core.display.Markdown object>"
      ]
     },
     "metadata": {},
     "output_type": "display_data"
    }
   ],
   "source": [
    "table(XOR2())"
   ]
  },
  {
   "cell_type": "markdown",
   "metadata": {
    "slideshow": {
     "slide_type": "slide"
    }
   },
   "source": [
    "## Questions\n",
    "1. 用神经网络实现MAJ电路。\n",
    "\n",
    "兴趣主导，下次课前自愿提交notebook到网络学堂。"
   ]
  }
 ],
 "metadata": {
  "celltoolbar": "Slideshow",
  "kernelspec": {
   "display_name": "Python 3",
   "language": "python",
   "name": "python3"
  },
  "language_info": {
   "codemirror_mode": {
    "name": "ipython",
    "version": 3
   },
   "file_extension": ".py",
   "mimetype": "text/x-python",
   "name": "python",
   "nbconvert_exporter": "python",
   "pygments_lexer": "ipython3",
   "version": "3.7.7"
  }
 },
 "nbformat": 4,
 "nbformat_minor": 2
}
