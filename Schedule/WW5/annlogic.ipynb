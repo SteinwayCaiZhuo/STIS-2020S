{
 "cells": [
  {
   "cell_type": "markdown",
   "metadata": {
    "slideshow": {
     "slide_type": "slide"
    }
   },
   "source": [
    "# 用ANN实现数字电路\n",
    "\n",
    "> Haotian Liu, 2020-03, STIS-2020Spring\n",
    "\n",
    "下面使用Pytorch做一个简单的验算。"
   ]
  },
  {
   "cell_type": "code",
   "execution_count": 1,
   "metadata": {
    "slideshow": {
     "slide_type": "fragment"
    }
   },
   "outputs": [],
   "source": [
    "import torch\n",
    "import torch.nn as nn\n",
    "import torch.nn.functional as F"
   ]
  },
  {
   "cell_type": "code",
   "execution_count": 2,
   "metadata": {
    "slideshow": {
     "slide_type": "slide"
    }
   },
   "outputs": [],
   "source": [
    "class AND(nn.Module):\n",
    "    def __init__(self):\n",
    "        super().__init__()\n",
    "        self.weight = torch.Tensor([[20, 20]])\n",
    "        self.bias = torch.Tensor([-30])\n",
    "\n",
    "    def forward(self, x):\n",
    "        x = F.linear(x, self.weight, self.bias)\n",
    "        x = torch.sigmoid(x)\n",
    "        return x"
   ]
  },
  {
   "cell_type": "code",
   "execution_count": 3,
   "metadata": {
    "scrolled": true,
    "slideshow": {
     "slide_type": "fragment"
    }
   },
   "outputs": [
    {
     "name": "stdout",
     "output_type": "stream",
     "text": [
      "11: 1\n",
      "01: 0\n",
      "10: 0\n",
      "00: 0\n"
     ]
    }
   ],
   "source": [
    "gate = AND()\n",
    "print('11:', round(float(gate(torch.Tensor([1, 1])))))\n",
    "print('01:', round(float(gate(torch.Tensor([0, 1])))))\n",
    "print('10:', round(float(gate(torch.Tensor([1, 0])))))\n",
    "print('00:', round(float(gate(torch.Tensor([0, 0])))))"
   ]
  },
  {
   "cell_type": "code",
   "execution_count": 4,
   "metadata": {
    "slideshow": {
     "slide_type": "slide"
    }
   },
   "outputs": [],
   "source": [
    "class OR(nn.Module):\n",
    "    def __init__(self):\n",
    "        super().__init__()\n",
    "        self.weight = torch.Tensor([[20, 20]])\n",
    "        self.bias = torch.Tensor([-10])\n",
    "\n",
    "    def forward(self, x):\n",
    "        x = F.linear(x, self.weight, self.bias)\n",
    "        x = torch.sigmoid(x)\n",
    "        return x"
   ]
  },
  {
   "cell_type": "code",
   "execution_count": 5,
   "metadata": {
    "slideshow": {
     "slide_type": "fragment"
    }
   },
   "outputs": [
    {
     "name": "stdout",
     "output_type": "stream",
     "text": [
      "11: 1\n",
      "01: 1\n",
      "10: 1\n",
      "00: 0\n"
     ]
    }
   ],
   "source": [
    "gate = OR()\n",
    "print('11:', round(float(gate(torch.Tensor([1, 1])))))\n",
    "print('01:', round(float(gate(torch.Tensor([0, 1])))))\n",
    "print('10:', round(float(gate(torch.Tensor([1, 0])))))\n",
    "print('00:', round(float(gate(torch.Tensor([0, 0])))))"
   ]
  },
  {
   "cell_type": "code",
   "execution_count": 6,
   "metadata": {
    "slideshow": {
     "slide_type": "slide"
    }
   },
   "outputs": [],
   "source": [
    "class NOT(nn.Module):\n",
    "    def __init__(self):\n",
    "        super().__init__()\n",
    "        self.weight = torch.Tensor([[-20]])\n",
    "        self.bias = torch.Tensor([10])\n",
    "\n",
    "    def forward(self, x):\n",
    "        x = F.linear(x, self.weight, self.bias)\n",
    "        x = torch.sigmoid(x)\n",
    "        return x"
   ]
  },
  {
   "cell_type": "code",
   "execution_count": 7,
   "metadata": {
    "scrolled": true,
    "slideshow": {
     "slide_type": "fragment"
    }
   },
   "outputs": [
    {
     "name": "stdout",
     "output_type": "stream",
     "text": [
      "1: 0\n",
      "0: 1\n"
     ]
    }
   ],
   "source": [
    "gate = NOT()\n",
    "print('1:', round(float(gate(torch.Tensor([1])))))\n",
    "print('0:', round(float(gate(torch.Tensor([0])))))"
   ]
  },
  {
   "cell_type": "code",
   "execution_count": 8,
   "metadata": {
    "slideshow": {
     "slide_type": "slide"
    }
   },
   "outputs": [],
   "source": [
    "class XOR(nn.Module):\n",
    "    def __init__(self):\n",
    "        super().__init__()\n",
    "        self.and_ = AND()\n",
    "        self.or_ = OR()\n",
    "        self.not_ = NOT()\n",
    "\n",
    "    def forward(self, x):\n",
    "        y1 = self.or_(x)\n",
    "        t1 = self.not_(torch.Tensor([x[0]]))\n",
    "        t2 = self.not_(torch.Tensor([x[1]]))\n",
    "        y2 = self.or_(torch.Tensor([t1, t2]))\n",
    "        return self.and_(torch.Tensor([y1, y2]))"
   ]
  },
  {
   "cell_type": "code",
   "execution_count": 9,
   "metadata": {
    "slideshow": {
     "slide_type": "fragment"
    }
   },
   "outputs": [
    {
     "name": "stdout",
     "output_type": "stream",
     "text": [
      "11: 0\n",
      "01: 1\n",
      "10: 1\n",
      "00: 0\n"
     ]
    }
   ],
   "source": [
    "gate = XOR()\n",
    "print('11:', round(float(gate(torch.Tensor([1, 1])))))\n",
    "print('01:', round(float(gate(torch.Tensor([0, 1])))))\n",
    "print('10:', round(float(gate(torch.Tensor([1, 0])))))\n",
    "print('00:', round(float(gate(torch.Tensor([0, 0])))))"
   ]
  }
 ],
 "metadata": {
  "celltoolbar": "Slideshow",
  "kernelspec": {
   "display_name": "Python 3",
   "language": "python",
   "name": "python3"
  },
  "language_info": {
   "codemirror_mode": {
    "name": "ipython",
    "version": 3
   },
   "file_extension": ".py",
   "mimetype": "text/x-python",
   "name": "python",
   "nbconvert_exporter": "python",
   "pygments_lexer": "ipython3",
   "version": "3.7.7"
  }
 },
 "nbformat": 4,
 "nbformat_minor": 2
}
